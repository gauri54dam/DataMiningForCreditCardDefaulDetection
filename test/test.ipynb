{
  "nbformat": 4,
  "nbformat_minor": 0,
  "metadata": {
    "colab": {
      "provenance": []
    },
    "kernelspec": {
      "name": "python3",
      "display_name": "Python 3"
    }
  },
  "cells": [
    {
      "cell_type": "code",
      "metadata": {
        "id": "0RJ1riUYhY91"
      },
      "source": [
        "!pip install gradio"
      ],
      "execution_count": null,
      "outputs": []
    },
    {
      "cell_type": "code",
      "source": [
        "!pip install pycaret"
      ],
      "metadata": {
        "id": "xPZSOUn9pyIB"
      },
      "execution_count": null,
      "outputs": []
    },
    {
      "cell_type": "code",
      "metadata": {
        "id": "GltFmD4v3dY9"
      },
      "source": [
        "\n",
        "import  matplotlib.pyplot as plt\n",
        "import seaborn as sns\n",
        "import gradio as gr\n",
        "import numpy as np\n",
        "from pycaret.classification import *\n",
        "import pandas as pd\n",
        "\n",
        " \n",
        "# importing \"random\" for random operations\n",
        "import random\n",
        " "
      ],
      "execution_count": 30,
      "outputs": []
    },
    {
      "cell_type": "code",
      "source": [
        "model = load_model('/content/credit-card-pipeline')"
      ],
      "metadata": {
        "colab": {
          "base_uri": "https://localhost:8080/"
        },
        "id": "g-CQtcCbptgO",
        "outputId": "f9358f4b-98b8-472d-bcb8-fbb97dd18050"
      },
      "execution_count": 4,
      "outputs": [
        {
          "output_type": "stream",
          "name": "stdout",
          "text": [
            "Transformation Pipeline and Model Successfully Loaded\n"
          ]
        }
      ]
    },
    {
      "cell_type": "code",
      "metadata": {
        "id": "Z4aPCUALpaAn"
      },
      "source": [
        "def classify(num):\n",
        "    if num < 0.2:\n",
        "        return 'Not default'\n",
        "    else:\n",
        "        return 'Defaulter'"
      ],
      "execution_count": 39,
      "outputs": []
    },
    {
      "cell_type": "code",
      "metadata": {
        "id": "_yo1qIZafSMi"
      },
      "source": [
        "\n",
        "def predict(name):\n",
        "    print(\"This is my trigger event\" + name)\n",
        "\n",
        "    data = pd.read_csv('/content/test.csv')\n",
        "    pred = predict_model(model, data =data)\n",
        " \n",
        "    print(\"Lets test on randomely selected sample from test set\")\n",
        "    sample = random.randrange(0, 5999, 3)\n",
        "    print(sample)\n",
        "\n",
        "    output=classify(pred['prediction_label'][sample])\n",
        " \n",
        "    if output=='Not default':\n",
        "      return [(0,output)]\n",
        "    else:\n",
        "      return [(1,output)]\n"
      ],
      "execution_count": 42,
      "outputs": []
    },
    {
      "cell_type": "code",
      "metadata": {
        "id": "Gs1EzAPShVWi"
      },
      "source": [
        "\n",
        "\n",
        "op=gr.outputs.HighlightedText(color_map={ \"Not default\": \"lightgreen\",\n",
        "        \"Defaulter\": \"pink\"})\n",
        "\n",
        "gr.Interface(predict, inputs='text', outputs=op,live=True).launch(debug=True)"
      ],
      "execution_count": null,
      "outputs": []
    }
  ]
}